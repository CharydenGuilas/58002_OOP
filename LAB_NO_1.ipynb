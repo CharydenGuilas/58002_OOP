{
  "nbformat": 4,
  "nbformat_minor": 0,
  "metadata": {
    "colab": {
      "provenance": [],
      "authorship_tag": "ABX9TyPQL3ATPQlOucR6ErsrqULL",
      "include_colab_link": true
    },
    "kernelspec": {
      "name": "python3",
      "display_name": "Python 3"
    },
    "language_info": {
      "name": "python"
    }
  },
  "cells": [
    {
      "cell_type": "markdown",
      "metadata": {
        "id": "view-in-github",
        "colab_type": "text"
      },
      "source": [
        "<a href=\"https://colab.research.google.com/github/CharydenGuilas/58002_OOP/blob/main/LAB_NO_1.ipynb\" target=\"_parent\"><img src=\"https://colab.research.google.com/assets/colab-badge.svg\" alt=\"Open In Colab\"/></a>"
      ]
    },
    {
      "cell_type": "code",
      "execution_count": 7,
      "metadata": {
        "colab": {
          "base_uri": "https://localhost:8080/"
        },
        "id": "-iaAhkkVuD7H",
        "outputId": "431abb1b-16e9-44c9-95a9-3b29f2dd85da"
      },
      "outputs": [
        {
          "output_type": "stream",
          "name": "stdout",
          "text": [
            "sum= 210\n",
            "average= 10.5\n"
          ]
        }
      ],
      "source": [
        "n=20\n",
        "totalnumbers=n\n",
        "sum=0\n",
        "average=0\n",
        "while n>=0:\n",
        "  sum+=n\n",
        "  n-=1\n",
        "print(\"sum=\",sum)\n",
        "average=sum/totalnumbers\n",
        "print(\"average=\",average)"
      ]
    }
  ]
}