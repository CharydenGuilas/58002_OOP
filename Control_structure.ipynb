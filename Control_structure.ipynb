{
  "nbformat": 4,
  "nbformat_minor": 0,
  "metadata": {
    "colab": {
      "provenance": [],
      "authorship_tag": "ABX9TyPbusP/0MaJpxYDWJQNRdMY",
      "include_colab_link": true
    },
    "kernelspec": {
      "name": "python3",
      "display_name": "Python 3"
    },
    "language_info": {
      "name": "python"
    }
  },
  "cells": [
    {
      "cell_type": "markdown",
      "metadata": {
        "id": "view-in-github",
        "colab_type": "text"
      },
      "source": [
        "<a href=\"https://colab.research.google.com/github/CharydenGuilas/58002_OOP/blob/main/Control_structure.ipynb\" target=\"_parent\"><img src=\"https://colab.research.google.com/assets/colab-badge.svg\" alt=\"Open In Colab\"/></a>"
      ]
    },
    {
      "cell_type": "code",
      "source": [
        "#if Statement\n",
        "b=100\n",
        "a=50\n",
        "if a>b:\n",
        "    print(\"a is greater than than b\")\n",
        "elif a<b:\n",
        "  print(\"a is less than b\")\n",
        "else:\n",
        "  print(\"a is equal to b\")"
      ],
      "metadata": {
        "colab": {
          "base_uri": "https://localhost:8080/"
        },
        "id": "BtJUHhT0k4m1",
        "outputId": "60f3db2f-ecd1-4eff-eee7-84f9c68542a6"
      },
      "execution_count": 18,
      "outputs": [
        {
          "output_type": "stream",
          "name": "stdout",
          "text": [
            "a is less than b\n"
          ]
        }
      ]
    },
    {
      "cell_type": "code",
      "source": [
        "#Elif Statement\n",
        "b=100\n",
        "a=50\n",
        "if a>b:\n",
        "  print(\"a is greater than than b\")\n",
        "elif a<b:\n",
        "  print(\"a is less than b\")"
      ],
      "metadata": {
        "colab": {
          "base_uri": "https://localhost:8080/"
        },
        "id": "SXQGOh4smFcW",
        "outputId": "b7fbb6cd-36f7-4819-a181-7f91bf708327"
      },
      "execution_count": 21,
      "outputs": [
        {
          "output_type": "stream",
          "name": "stdout",
          "text": [
            "a is less than b\n"
          ]
        }
      ]
    },
    {
      "cell_type": "code",
      "source": [
        "#Else Statement\n",
        "b=100\n",
        "a=50\n",
        "if a>b:\n",
        "    print(\"a is greater than than b\")\n",
        "elif a<b:\n",
        "  print(\"a is less than b\")"
      ],
      "metadata": {
        "colab": {
          "base_uri": "https://localhost:8080/"
        },
        "id": "F8_gZzz4mSPV",
        "outputId": "dfbbc134-e51b-47af-cfe6-42ea754a4a47"
      },
      "execution_count": 23,
      "outputs": [
        {
          "output_type": "stream",
          "name": "stdout",
          "text": [
            "a is less than b\n"
          ]
        }
      ]
    },
    {
      "cell_type": "markdown",
      "source": [
        "Short Hand If"
      ],
      "metadata": {
        "id": "KG4vcb0AnTT2"
      }
    },
    {
      "cell_type": "code",
      "source": [],
      "metadata": {
        "id": "IPDDSX-knWVO"
      },
      "execution_count": null,
      "outputs": []
    },
    {
      "cell_type": "markdown",
      "source": [
        "Short Hand If..Else"
      ],
      "metadata": {
        "id": "RF9_GEXImapG"
      }
    },
    {
      "cell_type": "code",
      "source": [
        "print(\"a is greater than b\")if a>b else print(\"a is less than b\")"
      ],
      "metadata": {
        "colab": {
          "base_uri": "https://localhost:8080/"
        },
        "id": "fLYDQGsemfkO",
        "outputId": "e29ce86d-565a-49b4-df00-2df586184993"
      },
      "execution_count": 20,
      "outputs": [
        {
          "output_type": "stream",
          "name": "stdout",
          "text": [
            "a is less than b\n"
          ]
        }
      ]
    },
    {
      "cell_type": "markdown",
      "source": [
        "And Condition"
      ],
      "metadata": {
        "id": "fJ6u1chynZAu"
      }
    },
    {
      "cell_type": "code",
      "source": [
        "s=75\n",
        "t=70\n",
        "if s>t or t<s:\n",
        "  print(\"s > t and t<s\")"
      ],
      "metadata": {
        "colab": {
          "base_uri": "https://localhost:8080/"
        },
        "id": "lCJ4tFjcnaeu",
        "outputId": "27290dfa-33fc-4db8-9494-d0ff4d5aa138"
      },
      "execution_count": 28,
      "outputs": [
        {
          "output_type": "stream",
          "name": "stdout",
          "text": [
            "s > t and t<s\n"
          ]
        }
      ]
    },
    {
      "cell_type": "markdown",
      "source": [
        "Or Condition"
      ],
      "metadata": {
        "id": "q8-JoAHMoA4D"
      }
    },
    {
      "cell_type": "code",
      "source": [
        "print(\"s is greater than t or t is less than s\")"
      ],
      "metadata": {
        "colab": {
          "base_uri": "https://localhost:8080/"
        },
        "id": "beZOeqy7oC19",
        "outputId": "79893b51-1526-4279-8b17-48fb5e07b8ea"
      },
      "execution_count": 30,
      "outputs": [
        {
          "output_type": "stream",
          "name": "stdout",
          "text": [
            "s is greater than t or t is less than s\n"
          ]
        }
      ]
    },
    {
      "cell_type": "code",
      "source": [
        "x=41\n",
        "if x>10:\n",
        "  print(\"Above 10\")\n",
        "if x>20:\n",
        "  print(\"Above 20\")\n",
        "else:\n",
        "  print(\"below 20\")"
      ],
      "metadata": {
        "colab": {
          "base_uri": "https://localhost:8080/"
        },
        "id": "5VQLm1rvobdW",
        "outputId": "a56e4af7-219c-4a36-9e2e-dac32331c295"
      },
      "execution_count": 38,
      "outputs": [
        {
          "output_type": "stream",
          "name": "stdout",
          "text": [
            "Above 10\n",
            "Above 20\n"
          ]
        }
      ]
    },
    {
      "cell_type": "code",
      "source": [
        "x=41\n",
        "if x>10:\n",
        "  print(\"Above 10\")\n",
        "if x>20:\n",
        "  print(\"Above 20\")\n",
        "if x>30:\n",
        "  print(\"above 30\")\n",
        "if x>40:\n",
        "  print(\"above 40\")\n",
        "if x<50:\n",
        "  print(\"below 50\")"
      ],
      "metadata": {
        "colab": {
          "base_uri": "https://localhost:8080/"
        },
        "id": "tqVyuDcAp2RO",
        "outputId": "0fc56607-f142-4f24-8cb9-b3993093efcf"
      },
      "execution_count": 47,
      "outputs": [
        {
          "output_type": "stream",
          "name": "stdout",
          "text": [
            "Above 10\n",
            "Above 20\n",
            "above 30\n",
            "above 40\n",
            "below 50\n"
          ]
        }
      ]
    },
    {
      "cell_type": "markdown",
      "source": [
        "Nested If"
      ],
      "metadata": {
        "id": "kXp0dew6rlXl"
      }
    },
    {
      "cell_type": "code",
      "source": [
        "x= int(input())\n",
        "if x>10:\n",
        "  print(\"Above 10\")\n",
        "if x>20:\n",
        "  print(\"Above 20\")\n",
        "if x>30:\n",
        "  print(\"above 30\")\n",
        "if x>40:\n",
        "  print(\"above 40\")\n",
        "if x>50:\n",
        "  print(\"above 50\")\n",
        "if x<50:\n",
        "  print(\"below 50\")"
      ],
      "metadata": {
        "colab": {
          "base_uri": "https://localhost:8080/"
        },
        "id": "ZCEkM2vBq3rW",
        "outputId": "4ba04dae-81c4-44d3-8da5-81a042d00cf8"
      },
      "execution_count": 50,
      "outputs": [
        {
          "output_type": "stream",
          "name": "stdout",
          "text": [
            "49\n",
            "Above 10\n",
            "Above 20\n",
            "above 30\n",
            "above 40\n",
            "below 50\n"
          ]
        }
      ]
    },
    {
      "cell_type": "markdown",
      "source": [
        "Example 1"
      ],
      "metadata": {
        "id": "-vb6rP8JteZv"
      }
    },
    {
      "cell_type": "code",
      "source": [
        "a=int(input())\n",
        "if a<18:\n",
        "  print(\"Not Qualified to vote!\")\n",
        "else:\n",
        "  print(\"Qualified to vote!\")"
      ],
      "metadata": {
        "colab": {
          "base_uri": "https://localhost:8080/"
        },
        "id": "Lzjnnz5ktmkX",
        "outputId": "365c0a9f-d4d0-44e4-ae63-d8e3522bce9e"
      },
      "execution_count": 69,
      "outputs": [
        {
          "output_type": "stream",
          "name": "stdout",
          "text": [
            "17\n",
            "Not Qualified to vote!\n"
          ]
        }
      ]
    },
    {
      "cell_type": "markdown",
      "source": [
        "Example 2"
      ],
      "metadata": {
        "id": "v7LeDZ1hvRlQ"
      }
    },
    {
      "cell_type": "code",
      "source": [
        "k=int(input())\n",
        "if k<0:\n",
        "  print(\"Negative!\")\n",
        "elif k>0:\n",
        "  print(\"Positive!\")\n",
        "else:\n",
        "  print(\"Zero!\")"
      ],
      "metadata": {
        "colab": {
          "base_uri": "https://localhost:8080/"
        },
        "id": "V3MLGMobvT2e",
        "outputId": "7820c445-5013-42bc-c0c8-264c2bd9e4e2"
      },
      "execution_count": 86,
      "outputs": [
        {
          "output_type": "stream",
          "name": "stdout",
          "text": [
            "-1\n",
            "Negative!\n"
          ]
        }
      ]
    },
    {
      "cell_type": "markdown",
      "source": [
        "Example 3"
      ],
      "metadata": {
        "id": "ekkSAqRlzG_D"
      }
    },
    {
      "cell_type": "code",
      "source": [
        "u=int(input())\n",
        "if u>69:\n",
        "  print(\"You Passed!\")\n",
        "if u<65-69:\n",
        "  print(\"Remedial\")\n",
        "if u<64:\n",
        "  print(\"Failed\")\n",
        "if u>100:\n",
        "  print(\"Not accepted\")"
      ],
      "metadata": {
        "colab": {
          "base_uri": "https://localhost:8080/"
        },
        "id": "FCQ4hPudzIuC",
        "outputId": "1d2e0327-5b74-4db5-a567-03b008bcf206"
      },
      "execution_count": 119,
      "outputs": [
        {
          "output_type": "stream",
          "name": "stdout",
          "text": [
            "63\n",
            "Failed\n"
          ]
        }
      ]
    }
  ]
}