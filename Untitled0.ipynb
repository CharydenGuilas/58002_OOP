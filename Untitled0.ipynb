{
  "nbformat": 4,
  "nbformat_minor": 0,
  "metadata": {
    "colab": {
      "provenance": [],
      "authorship_tag": "ABX9TyPc/+FsbAWcFA7Fw8y98nYf",
      "include_colab_link": true
    },
    "kernelspec": {
      "name": "python3",
      "display_name": "Python 3"
    },
    "language_info": {
      "name": "python"
    }
  },
  "cells": [
    {
      "cell_type": "markdown",
      "metadata": {
        "id": "view-in-github",
        "colab_type": "text"
      },
      "source": [
        "<a href=\"https://colab.research.google.com/github/CharydenGuilas/58002_OOP/blob/main/Untitled0.ipynb\" target=\"_parent\"><img src=\"https://colab.research.google.com/assets/colab-badge.svg\" alt=\"Open In Colab\"/></a>"
      ]
    },
    {
      "cell_type": "markdown",
      "source": [
        "Python Indentation"
      ],
      "metadata": {
        "id": "UeVBIl5YwvtU"
      }
    },
    {
      "cell_type": "code",
      "source": [
        "if 5>2:\n",
        "  print(\"Five greater than two\")"
      ],
      "metadata": {
        "colab": {
          "base_uri": "https://localhost:8080/"
        },
        "id": "h0j6v8Ypw7BD",
        "outputId": "00681b7a-3f4d-4c23-9c4c-e7a92aec85b7"
      },
      "execution_count": 3,
      "outputs": [
        {
          "output_type": "stream",
          "name": "stdout",
          "text": [
            "Five greater than two\n"
          ]
        }
      ]
    },
    {
      "cell_type": "markdown",
      "source": [
        "Python Comment"
      ],
      "metadata": {
        "id": "UDSAK53Qx7nw"
      }
    },
    {
      "cell_type": "code",
      "source": [
        "#Ako si Marites\n",
        "print (\"Hello Jungkurt\")"
      ],
      "metadata": {
        "colab": {
          "base_uri": "https://localhost:8080/"
        },
        "id": "Etnw_sfsyAKe",
        "outputId": "7cc3dc16-9622-451d-d143-15f5dce2680a"
      },
      "execution_count": 12,
      "outputs": [
        {
          "output_type": "stream",
          "name": "stdout",
          "text": [
            "Hello Jungkurt\n"
          ]
        }
      ]
    },
    {
      "cell_type": "markdown",
      "source": [
        "Naming variable"
      ],
      "metadata": {
        "id": "XG1agzHXycPe"
      }
    },
    {
      "cell_type": "code",
      "source": [
        "#Single variable with single value\n",
        "x=1\n",
        "y=5\n",
        "print(x)\n",
        "print(y)\n",
        "\n",
        "#Multiple variable with single value\n",
        "a=\"Maria\"\n",
        "b=\"chary\"\n",
        "c=\"den\"\n",
        "print(a)\n",
        "print(b)\n",
        "print(c)"
      ],
      "metadata": {
        "colab": {
          "base_uri": "https://localhost:8080/"
        },
        "id": "PNBcRO_xygPN",
        "outputId": "95fc3c1c-d2be-4b9a-d2b7-3f564f745203"
      },
      "execution_count": 15,
      "outputs": [
        {
          "output_type": "stream",
          "name": "stdout",
          "text": [
            "1\n",
            "5\n",
            "Maria\n",
            "chary\n",
            "den\n"
          ]
        }
      ]
    },
    {
      "cell_type": "markdown",
      "source": [
        "Naming variable also"
      ],
      "metadata": {
        "id": "Knqq-Hpwz9qm"
      }
    },
    {
      "cell_type": "code",
      "source": [
        "#Single variable with single value\n",
        "x=1\n",
        "y=5\n",
        "print(x)\n",
        "print(y)\n",
        "\n",
        "#Multiple variable with single value\n",
        "a=b=c=\"Maria\"\n",
        "print(a)\n",
        "print(b)\n",
        "print(c)\n",
        "\n",
        "#Multiple variable with multiple values\n",
        "\n",
        "e,f,g=1,2,3\n",
        "print(e)\n",
        "print(f)\n",
        "print(g)"
      ],
      "metadata": {
        "colab": {
          "base_uri": "https://localhost:8080/"
        },
        "id": "ZTCoWdsI0AYe",
        "outputId": "c7610312-2b13-43a6-d71c-b4dfa9289768"
      },
      "execution_count": 19,
      "outputs": [
        {
          "output_type": "stream",
          "name": "stdout",
          "text": [
            "1\n",
            "5\n",
            "Maria\n",
            "Maria\n",
            "Maria\n",
            "1\n",
            "2\n",
            "3\n"
          ]
        }
      ]
    },
    {
      "cell_type": "markdown",
      "source": [
        "Single or Double"
      ],
      "metadata": {
        "id": "rkNwDhKc0qcO"
      }
    },
    {
      "cell_type": "code",
      "source": [
        "v=\"Sally\"\n",
        "u='sally'\n",
        "print(u)\n",
        "print(v)"
      ],
      "metadata": {
        "colab": {
          "base_uri": "https://localhost:8080/"
        },
        "id": "uKr8yEYQ01at",
        "outputId": "b90bb401-cde2-4071-a6d2-f386b40c4904"
      },
      "execution_count": 21,
      "outputs": [
        {
          "output_type": "stream",
          "name": "stdout",
          "text": [
            "sally\n",
            "Sally\n"
          ]
        }
      ]
    },
    {
      "cell_type": "markdown",
      "source": [
        "Casting"
      ],
      "metadata": {
        "id": "BdpyPVGs1LHl"
      }
    },
    {
      "cell_type": "code",
      "source": [
        "p=int(5)\n",
        "p"
      ],
      "metadata": {
        "colab": {
          "base_uri": "https://localhost:8080/"
        },
        "id": "AkcYRV0u1NA1",
        "outputId": "71de286b-8b58-45d3-de7c-17878a455b36"
      },
      "execution_count": 22,
      "outputs": [
        {
          "output_type": "execute_result",
          "data": {
            "text/plain": [
              "5"
            ]
          },
          "metadata": {},
          "execution_count": 22
        }
      ]
    },
    {
      "cell_type": "markdown",
      "source": [
        "Type () function"
      ],
      "metadata": {
        "id": "JaYWLQ9Z12jV"
      }
    },
    {
      "cell_type": "code",
      "source": [
        "f=\"ana\"\n",
        "g=4.56\n",
        "\n",
        "print(type(f))\n",
        "print(type(g))"
      ],
      "metadata": {
        "colab": {
          "base_uri": "https://localhost:8080/"
        },
        "id": "2UeSDu7q16sl",
        "outputId": "eef3047c-2164-474f-9d68-52c0b90afae4"
      },
      "execution_count": 25,
      "outputs": [
        {
          "output_type": "stream",
          "name": "stdout",
          "text": [
            "<class 'str'>\n",
            "<class 'float'>\n"
          ]
        }
      ]
    },
    {
      "cell_type": "markdown",
      "source": [
        "Concatination using + symbol"
      ],
      "metadata": {
        "id": "gPdbpBzf3K8W"
      }
    },
    {
      "cell_type": "code",
      "source": [
        "k=\"enjoying \"\n",
        "j=\"Python programming \"\n",
        "print(\"Python programming is \"+ k)\n",
        "print(j+k)"
      ],
      "metadata": {
        "colab": {
          "base_uri": "https://localhost:8080/"
        },
        "id": "VmZ34Iyt2yfP",
        "outputId": "15c6c408-b54f-48d9-e2d3-30762083ae1c"
      },
      "execution_count": 33,
      "outputs": [
        {
          "output_type": "stream",
          "name": "stdout",
          "text": [
            "Python programming is enjoying \n",
            "Python programming enjoying \n"
          ]
        }
      ]
    }
  ]
}