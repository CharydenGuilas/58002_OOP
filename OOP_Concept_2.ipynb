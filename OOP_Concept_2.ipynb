{
  "nbformat": 4,
  "nbformat_minor": 0,
  "metadata": {
    "colab": {
      "provenance": [],
      "authorship_tag": "ABX9TyNjvexZXjinmvEfDY4h8JJZ",
      "include_colab_link": true
    },
    "kernelspec": {
      "name": "python3",
      "display_name": "Python 3"
    },
    "language_info": {
      "name": "python"
    }
  },
  "cells": [
    {
      "cell_type": "markdown",
      "metadata": {
        "id": "view-in-github",
        "colab_type": "text"
      },
      "source": [
        "<a href=\"https://colab.research.google.com/github/CharydenGuilas/58002_OOP/blob/main/OOP_Concept_2.ipynb\" target=\"_parent\"><img src=\"https://colab.research.google.com/assets/colab-badge.svg\" alt=\"Open In Colab\"/></a>"
      ]
    },
    {
      "cell_type": "code",
      "execution_count": 1,
      "metadata": {
        "id": "7oDsCmVyD94x"
      },
      "outputs": [],
      "source": [
        "#Encapsulation\n",
        "\n",
        "class foo():\n",
        "  def _init_(self, a, b):\n",
        "    self.a = a\n",
        "    self.b = b\n",
        "    def add (self):\n",
        "      return self.a + self.b\n",
        "      foo_object = foo (3,4)\n",
        "      foo_object.add()\n"
      ]
    },
    {
      "cell_type": "code",
      "source": [
        "#Class with multiple objects\n",
        "\n",
        "class birds:\n",
        "  def __init(self, name_birds):\n",
        "    self.name_birds = name_birds\n",
        "    def flying_birds (self):\n",
        "      print(f\"The{self.name_birds}is the flying bird above the sky\")\n",
        "      def non_flying_birds(self):\n",
        "        print(f\"The{self.name_birds}is the non flying bird\")\n",
        "        eagle = birds(\"Eagle\")\n",
        "        chicken = birds(\"chicken\")\n",
        "        eagle.flying_birds()\n",
        "        chicken.non_flying_bird()"
      ],
      "metadata": {
        "id": "wKVDtO5KERw7"
      },
      "execution_count": 2,
      "outputs": []
    },
    {
      "cell_type": "code",
      "source": [
        "#inheritance\n",
        "class Person:\n",
        "  def __init__(self,name,birthdate):\n",
        "    self.name = name\n",
        "    self.birthdate = birthdate\n",
        "    def display(self):\n",
        "      print(\"My name is\",self.name)\n",
        "      print(\"My birthdate is\",self.birthdate)\n",
        "      person = Person(\"Charyden\", \"May 17, 2004\")\n",
        "      person.display()\n",
        "\n",
        "      student = Person(\"DenDen\", \"May 17, 2004\")\n",
        "      student.display()"
      ],
      "metadata": {
        "id": "M5h2FbwUEU_j"
      },
      "execution_count": 3,
      "outputs": []
    },
    {
      "cell_type": "markdown",
      "source": [
        "#create a class name shapes (5 shapes)\n",
        "#sttribute sides\n",
        "#create a func./method that displays the\n",
        "#no. of sides of each shape\n",
        "## #apply inheritance and encapsulation"
      ],
      "metadata": {
        "id": "7VCAqw9DLIp3"
      }
    },
    {
      "cell_type": "code",
      "source": [
        "class Shapes:\n",
        "    def __init__(self, sides):\n",
        "        self._sides = sides\n",
        "    \n",
        "    def display_sides(self):\n",
        "        print(\"Number of sides:\", self._sides)\n",
        "\n",
        "class Square(Shapes):\n",
        "    def __init__(self):\n",
        "        super().__init__(4)\n",
        "\n",
        "class Triangle(Shapes):\n",
        "    def __init__(self):\n",
        "        super().__init__(3)\n",
        "\n",
        "class Circle(Shapes):\n",
        "    def __init__(self):\n",
        "        super().__init__(0)\n",
        "\n",
        "class Pentagon(Shapes):\n",
        "    def __init__(self):\n",
        "        super().__init__(5)\n",
        "\n",
        "class Hexagon(Shapes):\n",
        "    def __init__(self):\n",
        "        super().__init__(6)\n",
        "\n",
        "square = Square()\n",
        "square.display_sides()  # Number of sides: 4\n",
        "\n",
        "triangle = Triangle()\n",
        "triangle.display_sides()  # Number of sides: 3\n",
        "\n",
        "circle = Circle()\n",
        "circle.display_sides()  # Number of sides: 0\n",
        "\n",
        "pentagon = Pentagon()\n",
        "pentagon.display_sides()  # Number of sides: 5\n",
        "\n",
        "hexagon = Hexagon()\n",
        "hexagon.display_sides()  # Number of sides: 6\n"
      ],
      "metadata": {
        "colab": {
          "base_uri": "https://localhost:8080/"
        },
        "id": "eYCCbNuSJYxn",
        "outputId": "5de64162-25ea-4af3-b6fc-efea9a3d1c92"
      },
      "execution_count": 4,
      "outputs": [
        {
          "output_type": "stream",
          "name": "stdout",
          "text": [
            "Number of sides: 4\n",
            "Number of sides: 3\n",
            "Number of sides: 0\n",
            "Number of sides: 5\n",
            "Number of sides: 6\n"
          ]
        }
      ]
    },
    {
      "cell_type": "code",
      "source": [
        "class Shape:\n",
        "    def __init__(self, sides):\n",
        "        self._sides = sides\n",
        "    \n",
        "    def display_sides(self):\n",
        "        print(\"Number of sides:\", self._sides)\n",
        "\n",
        "class Rectangle(Shape):\n",
        "    def __init__(self):\n",
        "        super().__init__(4)\n",
        "\n",
        "class EquilateralTriangle(Shape):\n",
        "    def __init__(self):\n",
        "        super().__init__(3)\n",
        "\n",
        "class Pentagon(Shape):\n",
        "    def __init__(self):\n",
        "        super().__init__(5)\n",
        "\n",
        "class Oval(Shape):\n",
        "    def __init__(self):\n",
        "        super().__init__(0)\n",
        "\n",
        "class HexagonalPrism(Shape):\n",
        "    def __init__(self):\n",
        "        super().__init__(12)\n",
        "\n",
        "rectangle = Rectangle()\n",
        "rectangle.display_sides()  # Number of sides: 4\n",
        "\n",
        "equilateral_triangle = EquilateralTriangle()\n",
        "equilateral_triangle.display_sides()  # Number of sides: 3\n",
        "\n",
        "pentagon = Pentagon()\n",
        "pentagon.display_sides()  # Number of sides: 5\n",
        "\n",
        "oval = Oval()\n",
        "oval.display_sides()  # Number of sides: 0\n",
        "\n",
        "hexagonal_prism = HexagonalPrism()\n",
        "hexagonal_prism.display_sides()  # Number of sides: 12\n"
      ],
      "metadata": {
        "colab": {
          "base_uri": "https://localhost:8080/"
        },
        "id": "v9sYTi3xKFw-",
        "outputId": "89d3e709-7f4a-411a-eadd-2b4b3463b051"
      },
      "execution_count": 5,
      "outputs": [
        {
          "output_type": "stream",
          "name": "stdout",
          "text": [
            "Number of sides: 4\n",
            "Number of sides: 3\n",
            "Number of sides: 5\n",
            "Number of sides: 0\n",
            "Number of sides: 12\n"
          ]
        }
      ]
    }
  ]
}