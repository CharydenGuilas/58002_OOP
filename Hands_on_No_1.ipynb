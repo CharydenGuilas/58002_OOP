{
  "nbformat": 4,
  "nbformat_minor": 0,
  "metadata": {
    "colab": {
      "provenance": [],
      "authorship_tag": "ABX9TyPDQBl3nrV6Jtu6CM9wFeI2",
      "include_colab_link": true
    },
    "kernelspec": {
      "name": "python3",
      "display_name": "Python 3"
    },
    "language_info": {
      "name": "python"
    }
  },
  "cells": [
    {
      "cell_type": "markdown",
      "metadata": {
        "id": "view-in-github",
        "colab_type": "text"
      },
      "source": [
        "<a href=\"https://colab.research.google.com/github/CharydenGuilas/58002_OOP/blob/main/Hands_on_No_1.ipynb\" target=\"_parent\"><img src=\"https://colab.research.google.com/assets/colab-badge.svg\" alt=\"Open In Colab\"/></a>"
      ]
    },
    {
      "cell_type": "markdown",
      "source": [
        "Hands-on No.1"
      ],
      "metadata": {
        "id": "W216xXYs-h0_"
      }
    },
    {
      "cell_type": "markdown",
      "source": [
        "1. Create a Python program that displays the name of three students (Student 1, Student 2 and Student 3) and the term grades\n",
        "2. Create a class name Person and attribures - std1, std2, std3, pre, mid, fin\n",
        "3. Compute the average of each term grade using Grade() method\n",
        "4. Information about student's grade must be hidden from others"
      ],
      "metadata": {
        "id": "EIEVgHLs-qaX"
      }
    },
    {
      "cell_type": "code",
      "source": [
        "class Person:\n",
        "    def __init__(self, std1, std2, std3, prelim, midterm, finals):\n",
        "        self.__std1 = std1\n",
        "        self.__std2 = std2\n",
        "        self.__std3 = std3\n",
        "        self.__prelim = prelim\n",
        "        self.__midterm = midterm\n",
        "        self.__finals = finals\n",
        "\n",
        "    def Grade(self):\n",
        "        return (self.__prelim + self.__midterm + self.__finals) / 3\n",
        "\n",
        "    def display1(self):\n",
        "        print(self.__std1, self.Grade(), \"\\n\")\n",
        "\n",
        "    def display2(self):\n",
        "        print(self.__std2, self.Grade(), \"\\n\")\n",
        "\n",
        "    def display3(self):\n",
        "        print(self.__std3, self.Grade())\n",
        "\n",
        "\n",
        "class student1(Person):\n",
        "    term_grade = Person(\"Average of Student 1 =\", 0, 0, \n",
        "                        float(input(\"Prelim Grade: \")), \n",
        "                        float(input(\"Midterm Grade: \")),\n",
        "                        float(input(\"Final Grade: \")))\n",
        "    term_grade.display1()\n",
        "\n",
        "\n",
        "class student2(Person):\n",
        "    term_grade = Person(0, \"Average of Student 2 =\", 0, \n",
        "                        float(input(\"Prelim Grade: \")), \n",
        "                        float(input(\"Midterm Grade: \")),\n",
        "                        float(input(\"Final Grade: \")))\n",
        "    term_grade.display2()\n",
        "\n",
        "\n",
        "class student3(Person):\n",
        "    term_grade = Person(0, 0, \"Average of Student 3 =\", \n",
        "                        float(input(\"Prelim Grade: \")),\n",
        "                        float(input(\"Midterm Grade: \")), \n",
        "                        float(input(\"Final Grade: \")))\n",
        "    term_grade.display3()\n"
      ],
      "metadata": {
        "colab": {
          "base_uri": "https://localhost:8080/"
        },
        "id": "4iZ0DVgTN60K",
        "outputId": "71b14c7a-f5c5-48dd-c999-4bfa3aba568e"
      },
      "execution_count": 43,
      "outputs": [
        {
          "output_type": "stream",
          "name": "stdout",
          "text": [
            "Prelim Grade: 54\n",
            "Midterm Grade: 72\n",
            "Final Grade: 86\n",
            "Average of Student 1 = 70.66666666666667 \n",
            "\n",
            "Prelim Grade: 54\n",
            "Midterm Grade: 70\n",
            "Final Grade: 87\n",
            "Average of Student 2 = 70.33333333333333 \n",
            "\n",
            "Prelim Grade: 54\n",
            "Midterm Grade: 67\n",
            "Final Grade: 90\n",
            "Average of Student 3 = 70.33333333333333\n"
          ]
        }
      ]
    }
  ]
}