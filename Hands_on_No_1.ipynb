{
  "nbformat": 4,
  "nbformat_minor": 0,
  "metadata": {
    "colab": {
      "provenance": [],
      "authorship_tag": "ABX9TyNQo8MaMgwOfFQvaw2Ab2lJ",
      "include_colab_link": true
    },
    "kernelspec": {
      "name": "python3",
      "display_name": "Python 3"
    },
    "language_info": {
      "name": "python"
    }
  },
  "cells": [
    {
      "cell_type": "markdown",
      "metadata": {
        "id": "view-in-github",
        "colab_type": "text"
      },
      "source": [
        "<a href=\"https://colab.research.google.com/github/CharydenGuilas/58002_OOP/blob/main/Hands_on_No_1.ipynb\" target=\"_parent\"><img src=\"https://colab.research.google.com/assets/colab-badge.svg\" alt=\"Open In Colab\"/></a>"
      ]
    },
    {
      "cell_type": "markdown",
      "source": [
        "Hands-on No.1"
      ],
      "metadata": {
        "id": "W216xXYs-h0_"
      }
    },
    {
      "cell_type": "markdown",
      "source": [
        "1. Create a Python program that displays the name of three students (Student 1, Student 2 and Student 3) and the term grades\n",
        "2. Create a class name Person and attribures - std1, std2, std3, pre, mid, fin\n",
        "3. Compute the average of each term grade using Grade() method\n",
        "4. Information about student's grade must be hidden from others"
      ],
      "metadata": {
        "id": "EIEVgHLs-qaX"
      }
    },
    {
      "cell_type": "code",
      "source": [
        "class Person:\n",
        "    def __init__(self, std1, std2, std3, prelim, midterm, finals):\n",
        "        self.__std1 = std1\n",
        "        self.__std2 = std2\n",
        "        self.__std3 = std3\n",
        "        self.__prelim = prelim\n",
        "        self.__midterm = midterm\n",
        "        self.__finals = finals\n",
        "\n",
        "    def Grade(self):\n",
        "        return (self.__prelim + self.__midterm + self.__finals) / 3\n",
        "\n",
        "    def display1(self):\n",
        "        print(self.__std1, self.Grade(), \"\\n\")\n",
        "\n",
        "    def display2(self):\n",
        "        print(self.__std2, self.Grade(), \"\\n\")\n",
        "\n",
        "    def display3(self):\n",
        "        print(self.__std3, self.Grade())\n",
        "\n",
        "\n",
        "class student1(Person):\n",
        "    term_grade = Person(\"Average of Student 1 =\", 0, 0, \n",
        "                        float(input(\"Prelim Grade: \")), \n",
        "                        float(input(\"Midterm Grade: \")),\n",
        "                        float(input(\"Final Grade: \")))\n",
        "    term_grade.display1()\n",
        "\n",
        "\n",
        "class student2(Person):\n",
        "    term_grade = Person(0, \"Average of Student 2 =\", 0,\n",
        "                        float(input(\"Prelim Grade: \")), \n",
        "                        float(input(\"Midterm Grade: \")),\n",
        "                        float(input(\"Final Grade: \")))\n",
        "    term_grade.display2()\n",
        "\n",
        "\n",
        "class student3(Person):\n",
        "    term_grade = Person(0, 0, \"Average of Student 3 =\", \n",
        "                        float(input(\"Prelim Grade: \")),\n",
        "                        float(input(\"Midterm Grade: \")), \n",
        "                        float(input(\"Final Grade: \")))\n",
        "    term_grade.display3()\n"
      ],
      "metadata": {
        "colab": {
          "base_uri": "https://localhost:8080/"
        },
        "id": "4iZ0DVgTN60K",
        "outputId": "71b14c7a-f5c5-48dd-c999-4bfa3aba568e"
      },
      "execution_count": 43,
      "outputs": [
        {
          "output_type": "stream",
          "name": "stdout",
          "text": [
            "Prelim Grade: 54\n",
            "Midterm Grade: 72\n",
            "Final Grade: 86\n",
            "Average of Student 1 = 70.66666666666667 \n",
            "\n",
            "Prelim Grade: 54\n",
            "Midterm Grade: 70\n",
            "Final Grade: 87\n",
            "Average of Student 2 = 70.33333333333333 \n",
            "\n",
            "Prelim Grade: 54\n",
            "Midterm Grade: 67\n",
            "Final Grade: 90\n",
            "Average of Student 3 = 70.33333333333333\n"
          ]
        }
      ]
    },
    {
      "cell_type": "markdown",
      "source": [
        "another code try"
      ],
      "metadata": {
        "id": "vBgSBdngUiG7"
      }
    },
    {
      "cell_type": "code",
      "source": [
        "class Person:\n",
        "    def __init__(self, pre, mid, fin, std):\n",
        "        self.__std = std\n",
        "        self.__pre = pre\n",
        "        self.__mid = mid\n",
        "        self.__fin = fin\n",
        "\n",
        "    def Average(self):\n",
        "        return (self.__pre + self.__mid + self.__fin) / 3\n",
        "\n",
        "    def display(self):\n",
        "        print(\"Student name:\", self.__std)\n",
        "        print(\"Prelim:\", self.__pre)\n",
        "        print(\"Midterm:\", self.__mid)\n",
        "        print(\"Finals: \", self.__fin)\n",
        "        print(\"Average:\", self.Average())\n",
        "        print(\" \")\n",
        "\n",
        "class std_1(Person):\n",
        "    pass\n",
        "class std_2(Person):\n",
        "    pass\n",
        "class std_3(Person):\n",
        "    pass\n",
        "\n",
        "std_1 = Person(83, 75, 88, \"student_1\")\n",
        "std_1.display()\n",
        "\n",
        "std_2 = Person(68, 986, 94, \"student_2\")\n",
        "std_2.display()\n",
        "\n",
        "std_3 = Person(77, 90, 80, \"student_3\")\n",
        "std_3.display()"
      ],
      "metadata": {
        "colab": {
          "base_uri": "https://localhost:8080/"
        },
        "id": "SM4LJffrUKkE",
        "outputId": "57849d82-1a79-43d5-8762-a7d52bfb77fb"
      },
      "execution_count": 44,
      "outputs": [
        {
          "output_type": "stream",
          "name": "stdout",
          "text": [
            "Student name: student_1\n",
            "Prelim: 83\n",
            "Midterm: 75\n",
            "Finals:  88\n",
            "Average: 82.0\n",
            " \n",
            "Student name: student_2\n",
            "Prelim: 68\n",
            "Midterm: 986\n",
            "Finals:  94\n",
            "Average: 382.6666666666667\n",
            " \n",
            "Student name: student_3\n",
            "Prelim: 77\n",
            "Midterm: 90\n",
            "Finals:  80\n",
            "Average: 82.33333333333333\n",
            " \n"
          ]
        }
      ]
    }
  ]
}