{
  "nbformat": 4,
  "nbformat_minor": 0,
  "metadata": {
    "colab": {
      "provenance": [],
      "authorship_tag": "ABX9TyNtmPuW7Ef/TuOG3sliSiAB",
      "include_colab_link": true
    },
    "kernelspec": {
      "name": "python3",
      "display_name": "Python 3"
    },
    "language_info": {
      "name": "python"
    }
  },
  "cells": [
    {
      "cell_type": "markdown",
      "metadata": {
        "id": "view-in-github",
        "colab_type": "text"
      },
      "source": [
        "<a href=\"https://colab.research.google.com/github/CharydenGuilas/58002_OOP/blob/main/GUILAS_CALCULATOR.ipynb\" target=\"_parent\"><img src=\"https://colab.research.google.com/assets/colab-badge.svg\" alt=\"Open In Colab\"/></a>"
      ]
    },
    {
      "cell_type": "markdown",
      "source": [
        "Boolean Functions"
      ],
      "metadata": {
        "id": "AL6P4tp-z8_n"
      }
    },
    {
      "cell_type": "code",
      "source": [
        "print(10>9)\n",
        "print(10<9)"
      ],
      "metadata": {
        "colab": {
          "base_uri": "https://localhost:8080/"
        },
        "id": "PeZc4o-O0uxq",
        "outputId": "67d4f056-e2a4-4da8-b2c0-32108844c606"
      },
      "execution_count": null,
      "outputs": [
        {
          "output_type": "stream",
          "name": "stdout",
          "text": [
            "True\n",
            "False\n"
          ]
        }
      ]
    },
    {
      "cell_type": "markdown",
      "source": [
        "Bool() function"
      ],
      "metadata": {
        "id": "ftps7bpR1FEr"
      }
    },
    {
      "cell_type": "code",
      "source": [
        "\n",
        "print(bool(\"chary\"))\n",
        "print(bool(8))\n",
        "\n"
      ],
      "metadata": {
        "colab": {
          "base_uri": "https://localhost:8080/"
        },
        "id": "rs7TOBwQ1Jey",
        "outputId": "4e1fe60e-082e-42af-a187-f9ad9d03b097"
      },
      "execution_count": null,
      "outputs": [
        {
          "output_type": "stream",
          "name": "stdout",
          "text": [
            "True\n",
            "True\n"
          ]
        }
      ]
    },
    {
      "cell_type": "markdown",
      "source": [
        "Functions can return a boolean"
      ],
      "metadata": {
        "id": "Hw5CNLpq1-eD"
      }
    },
    {
      "cell_type": "code",
      "source": [
        "def myFunction():\n",
        "  return false\n",
        "\n",
        "  print(myFunction())\n"
      ],
      "metadata": {
        "id": "8lIuqHGs2DK5"
      },
      "execution_count": null,
      "outputs": []
    },
    {
      "cell_type": "code",
      "source": [
        "def myFunction():\n",
        "  return True\n",
        "if myFunction():\n",
        "    print(\"Yes!\")\n",
        "else:\n",
        "    print(\"No!\")"
      ],
      "metadata": {
        "colab": {
          "base_uri": "https://localhost:8080/"
        },
        "id": "Mim3UKSU2jwx",
        "outputId": "a1a7771b-8c64-409a-edc2-590379776e43"
      },
      "execution_count": null,
      "outputs": [
        {
          "output_type": "stream",
          "name": "stdout",
          "text": [
            "Yes!\n"
          ]
        }
      ]
    },
    {
      "cell_type": "code",
      "source": [
        "print(6>7)\n",
        "\n",
        "a=6\n",
        "b=7\n",
        "\n",
        "print(a==b)\n",
        "print(a!=a)"
      ],
      "metadata": {
        "colab": {
          "base_uri": "https://localhost:8080/"
        },
        "id": "BDPHZQgk3Yc9",
        "outputId": "73437b8f-4bcb-4eed-a77f-6c349e3f1a89"
      },
      "execution_count": null,
      "outputs": [
        {
          "output_type": "stream",
          "name": "stdout",
          "text": [
            "False\n",
            "False\n",
            "False\n"
          ]
        }
      ]
    },
    {
      "cell_type": "code",
      "source": [
        "a=60\n",
        "b=13\n",
        "a<<1\n",
        "a>>1"
      ],
      "metadata": {
        "colab": {
          "base_uri": "https://localhost:8080/"
        },
        "id": "Vt61lrIe765E",
        "outputId": "19dde7e6-6668-4690-cf5c-b7769740c8e9"
      },
      "execution_count": null,
      "outputs": [
        {
          "output_type": "execute_result",
          "data": {
            "text/plain": [
              "30"
            ]
          },
          "metadata": {},
          "execution_count": 47
        }
      ]
    },
    {
      "cell_type": "code",
      "source": [
        "print(10%5)\n",
        "print(10//3)\n",
        "print(10/5)\n",
        "print(10**2)"
      ],
      "metadata": {
        "colab": {
          "base_uri": "https://localhost:8080/"
        },
        "id": "ZJ4XWJme4DHb",
        "outputId": "af7a9407-e78f-447b-d35d-9d355e8b38a3"
      },
      "execution_count": null,
      "outputs": [
        {
          "output_type": "stream",
          "name": "stdout",
          "text": [
            "0\n",
            "3\n",
            "2.0\n",
            "100\n"
          ]
        }
      ]
    },
    {
      "cell_type": "markdown",
      "source": [
        "Python Operators"
      ],
      "metadata": {
        "id": "dg9nXoA94X_s"
      }
    },
    {
      "cell_type": "code",
      "source": [
        "print(10+5)\n",
        "print(10-5)\n",
        "print(10*5)\n",
        "print(10/5)\n",
        "print(10//5)\n",
        "print(10%3)\n",
        "round(10/5)\n",
        "print(10**5)"
      ],
      "metadata": {
        "colab": {
          "base_uri": "https://localhost:8080/"
        },
        "id": "lumRLINg4aTj",
        "outputId": "965ad0d3-5271-4cb0-81d3-57d350040337"
      },
      "execution_count": null,
      "outputs": [
        {
          "output_type": "stream",
          "name": "stdout",
          "text": [
            "15\n",
            "5\n",
            "50\n",
            "2.0\n",
            "2\n",
            "1\n",
            "100000\n"
          ]
        }
      ]
    },
    {
      "cell_type": "markdown",
      "source": [
        "Python Assignment Operators"
      ],
      "metadata": {
        "id": "_8ml_Se9-Jc-"
      }
    },
    {
      "cell_type": "code",
      "source": [
        "x=1\n",
        "x+=3\n",
        "print(x)\n",
        "\n",
        "x=1\n",
        "x-=1\n",
        "print(x)"
      ],
      "metadata": {
        "colab": {
          "base_uri": "https://localhost:8080/"
        },
        "id": "GxwQh6wN-MDG",
        "outputId": "39c143a8-f90b-4edf-d1c3-c3fd82cc0413"
      },
      "execution_count": null,
      "outputs": [
        {
          "output_type": "stream",
          "name": "stdout",
          "text": [
            "4\n",
            "0\n"
          ]
        }
      ]
    },
    {
      "cell_type": "code",
      "source": [
        "x=\"Charyden\"\n",
        "z=\"love\"\n",
        "y=\"Poop\"\n",
        "print(x,z,y)"
      ],
      "metadata": {
        "colab": {
          "base_uri": "https://localhost:8080/"
        },
        "id": "C4l3u-qa_C2S",
        "outputId": "e131d989-2579-4e4a-a6ad-49c31891c7e4"
      },
      "execution_count": null,
      "outputs": [
        {
          "output_type": "stream",
          "name": "stdout",
          "text": [
            "Charyden love Poop\n"
          ]
        }
      ]
    },
    {
      "cell_type": "code",
      "source": [
        "x=1\n",
        "x+=9\n",
        "print(x)"
      ],
      "metadata": {
        "colab": {
          "base_uri": "https://localhost:8080/"
        },
        "id": "0dP4h-O5_x8Q",
        "outputId": "55169061-d68c-4750-d790-45349f9fb62f"
      },
      "execution_count": null,
      "outputs": [
        {
          "output_type": "stream",
          "name": "stdout",
          "text": [
            "10\n"
          ]
        }
      ]
    },
    {
      "cell_type": "markdown",
      "source": [
        "Logical Operators"
      ],
      "metadata": {
        "id": "rkxRtlq3AkLI"
      }
    },
    {
      "cell_type": "code",
      "source": [
        "x=True\n",
        "y=False\n",
        "print(x and y)"
      ],
      "metadata": {
        "colab": {
          "base_uri": "https://localhost:8080/"
        },
        "id": "ruwQb-uqAlj_",
        "outputId": "0310e37d-bfa8-4001-98fe-711dfd1875be"
      },
      "execution_count": null,
      "outputs": [
        {
          "output_type": "stream",
          "name": "stdout",
          "text": [
            "False\n"
          ]
        }
      ]
    },
    {
      "cell_type": "markdown",
      "source": [
        "Identity Operators"
      ],
      "metadata": {
        "id": "ETbDhuDNBDTo"
      }
    },
    {
      "cell_type": "code",
      "source": [
        "print(x is y)\n",
        "print(x is not y)\n",
        "\n"
      ],
      "metadata": {
        "colab": {
          "base_uri": "https://localhost:8080/"
        },
        "id": "M4-7js7gBFw3",
        "outputId": "7584051c-fdfa-4786-8024-7c7655e2f030"
      },
      "execution_count": null,
      "outputs": [
        {
          "output_type": "stream",
          "name": "stdout",
          "text": [
            "False\n",
            "True\n"
          ]
        }
      ]
    },
    {
      "cell_type": "markdown",
      "source": [
        "Application 1 Create an arithmetic calculator (MDAS)"
      ],
      "metadata": {
        "id": "PZ7zEesnCMwE"
      }
    },
    {
      "cell_type": "code",
      "source": [
        "print(\"Select operation.\")\n",
        "print(\"A.Add\")\n",
        "print(\"B.Subtract\")\n",
        "print(\"C.Multiply\")\n",
        "print(\"D.Divide\")\n",
        "\n",
        "while True:\n",
        "    # take input from the user\n",
        "    choice = input(\"Enter choice(A/B/C/D): \")\n",
        "\n",
        "    # check if choice is one of the four options\n",
        "    if choice in ('A', 'B', 'C', 'D'):\n",
        "        try:\n",
        "            charA = float(input(\"Enter first number: \"))\n",
        "            charB = float(input(\"Enter second number: \"))\n",
        "        except ValueError:\n",
        "            print(\"Invalid input. Please enter a number.\")\n",
        "            continue\n",
        "\n",
        "        if choice == 'A':\n",
        "            print(charA, \"+\", charB, \"=\", (charA + charB))\n",
        "\n",
        "        elif choice == 'B':\n",
        "            print(charA, \"-\", charB, \"=\", (charA - charB))\n",
        "\n",
        "        elif choice == 'C':\n",
        "            print(charA, \"*\", charB, \"=\", (charA * charB))\n",
        "\n",
        "        elif choice == 'D':\n",
        "            print(charA, \"/\", charB, \"=\", (charA / charB))\n",
        "        \n",
        "        # check if user wants another calculation\n",
        "        # break the while loop if answer is no\n",
        "        next_calculation = input(\"Let's do next calculation? (yes/no): \")\n",
        "        if next_calculation == \"no\":\n",
        "          break\n",
        "    else:\n",
        "        print(\"Invalid Input\")\n"
      ],
      "metadata": {
        "colab": {
          "base_uri": "https://localhost:8080/"
        },
        "id": "Ye3YEADUCb6c",
        "outputId": "e7e2df2c-9e3c-411c-bc4a-15a476b32bfa"
      },
      "execution_count": null,
      "outputs": [
        {
          "name": "stdout",
          "output_type": "stream",
          "text": [
            "Select operation.\n",
            "A.Add\n",
            "B.Subtract\n",
            "C.Multiply\n",
            "D.Divide\n",
            "Enter choice(A/B/C/D): A\n"
          ]
        }
      ]
    }
  ]
}