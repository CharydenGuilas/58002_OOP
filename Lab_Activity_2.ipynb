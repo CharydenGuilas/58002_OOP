{
  "nbformat": 4,
  "nbformat_minor": 0,
  "metadata": {
    "colab": {
      "provenance": [],
      "authorship_tag": "ABX9TyM2j2P9o/7aahAnlECDC4MT",
      "include_colab_link": true
    },
    "kernelspec": {
      "name": "python3",
      "display_name": "Python 3"
    },
    "language_info": {
      "name": "python"
    }
  },
  "cells": [
    {
      "cell_type": "markdown",
      "metadata": {
        "id": "view-in-github",
        "colab_type": "text"
      },
      "source": [
        "<a href=\"https://colab.research.google.com/github/CharydenGuilas/58002_OOP/blob/main/Lab_Activity_2.ipynb\" target=\"_parent\"><img src=\"https://colab.research.google.com/assets/colab-badge.svg\" alt=\"Open In Colab\"/></a>"
      ]
    },
    {
      "cell_type": "markdown",
      "source": [
        "1. Write a Python program that asks the user to enter the radius of a circle and solve its area and perimeter."
      ],
      "metadata": {
        "id": "W5UM9ZOKQVdX"
      }
    },
    {
      "cell_type": "code",
      "source": [
        "import math\n",
        "\n",
        "radius = float(input(\"Enter the radius of the circle: \"))\n",
        "perimeter = 2 * math.pi * radius\n",
        "area = math.pi * radius ** 2\n",
        "print(f\"The area of the circle is {area:.2f}\")\n",
        "print(f\"The perimeter of the circle is {perimeter:.2f}\")\n"
      ],
      "metadata": {
        "colab": {
          "base_uri": "https://localhost:8080/"
        },
        "id": "VKCI2J6lQbbJ",
        "outputId": "238971fc-4c5a-4a4a-d04c-78b56d23ce3a"
      },
      "execution_count": 5,
      "outputs": [
        {
          "output_type": "stream",
          "name": "stdout",
          "text": [
            "Enter the radius of the circle: 4\n",
            "The area of the circle is 50.27\n",
            "The perimeter of the circle is 25.13\n"
          ]
        }
      ]
    },
    {
      "cell_type": "markdown",
      "source": [
        "2. Create a class name Circle allowing you to build a circle with radius and pi attributes."
      ],
      "metadata": {
        "id": "8Oh4DM-NQw2B"
      }
    },
    {
      "cell_type": "code",
      "source": [
        "class Circle:\n",
        "    def __init__(self, radius, pi=3.14159):\n",
        "        self.radius = radius\n",
        "        self.pi = pi\n",
        "\n",
        "    def perimeter(self):\n",
        "        return 2 * self.pi * self.radius\n",
        "\n",
        "    def area(self):\n",
        "        return self.pi * self.radius ** 2\n",
        "\n",
        "circle = Circle(4)\n",
        "print(\"Perimeter:\", circle.perimeter())\n",
        "print(\"Area:\", circle.area())"
      ],
      "metadata": {
        "colab": {
          "base_uri": "https://localhost:8080/"
        },
        "id": "LETCmJFwQ5a3",
        "outputId": "2e9c97ec-816f-4e90-b329-35aeface64b9"
      },
      "execution_count": 2,
      "outputs": [
        {
          "output_type": "stream",
          "name": "stdout",
          "text": [
            "Perimeter: 25.13272\n",
            "Area: 50.26544\n"
          ]
        }
      ]
    },
    {
      "cell_type": "markdown",
      "source": [
        "3. Create a method Display() the perimeter and area using an instantiation of a class"
      ],
      "metadata": {
        "id": "EZfWq-YhRCiv"
      }
    },
    {
      "cell_type": "code",
      "source": [
        "class Circle:\n",
        "    def __init__(self, radius, pi=3.14159):\n",
        "        self.radius = radius\n",
        "        self.pi = pi\n",
        "    \n",
        "    def area(self):\n",
        "        return self.pi * (self.radius ** 2)\n",
        "    \n",
        "    def circumference(self):\n",
        "        return 2 * self.pi * self.radius\n",
        "    \n",
        "    def Display(self):\n",
        "        print(\"Radius:\", self.radius)\n",
        "        print(\"Area:\", self.area())\n",
        "        print(\"Perimeter:\", self.circumference())\n",
        "\n",
        "my_circle = Circle(10)\n",
        "\n",
        "my_circle.Display()"
      ],
      "metadata": {
        "colab": {
          "base_uri": "https://localhost:8080/"
        },
        "id": "EdcN4X_yRMHg",
        "outputId": "43d8febf-c006-44e6-d4ad-099b139caa93"
      },
      "execution_count": 3,
      "outputs": [
        {
          "output_type": "stream",
          "name": "stdout",
          "text": [
            "Radius: 10\n",
            "Area: 314.159\n",
            "Perimeter: 62.8318\n"
          ]
        }
      ]
    },
    {
      "cell_type": "markdown",
      "source": [
        "4. Create a Perimeter() method to calculate the perimeter of the circle and an Area() method to calculate the area of the circle"
      ],
      "metadata": {
        "id": "JwF9-otiRX_V"
      }
    },
    {
      "cell_type": "code",
      "source": [
        "import math\n",
        "\n",
        "class Circle:\n",
        "    def __init__(self, radius):\n",
        "        self.radius = radius\n",
        "    \n",
        "    def perimeter(self):\n",
        "        return 2 * math.pi * self.radius\n",
        "    \n",
        "    def area(self):\n",
        "        return math.pi * self.radius ** 2\n",
        "\n",
        "circle = Circle(3)\n",
        "print(\"Perimeter:\", circle.perimeter()) \n",
        "print(\"Area:\", circle.area()) "
      ],
      "metadata": {
        "colab": {
          "base_uri": "https://localhost:8080/"
        },
        "id": "JPPGaB4VRdQa",
        "outputId": "e8801020-1d98-4003-c5b1-a19045582289"
      },
      "execution_count": 4,
      "outputs": [
        {
          "output_type": "stream",
          "name": "stdout",
          "text": [
            "Perimeter: 18.84955592153876\n",
            "Area: 28.274333882308138\n"
          ]
        }
      ]
    }
  ]
}